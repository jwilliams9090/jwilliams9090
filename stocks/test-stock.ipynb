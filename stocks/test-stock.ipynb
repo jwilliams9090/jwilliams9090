{
 "cells": [
  {
   "cell_type": "code",
   "execution_count": 27,
   "id": "0b3c0035",
   "metadata": {},
   "outputs": [],
   "source": [
    "# Import required libraries\n",
    "import math\n",
    "import matplotlib.pyplot as plt\n",
    "import numpy as np\n",
    "from pandas_datareader import data\n",
    "#from datetime import date\n",
    "import datetime"
   ]
  },
  {
   "cell_type": "code",
   "execution_count": 51,
   "id": "217c5361",
   "metadata": {},
   "outputs": [],
   "source": [
    "#apple = data.DataReader('AAPL', 'yahoo',start='8/1/2021')\n",
    "apple = data.DataReader('AAPL', 'yahoo',start=d2, end=d1)"
   ]
  },
  {
   "cell_type": "code",
   "execution_count": 52,
   "id": "acfa5361",
   "metadata": {},
   "outputs": [
    {
     "data": {
      "text/html": [
       "<div>\n",
       "<style scoped>\n",
       "    .dataframe tbody tr th:only-of-type {\n",
       "        vertical-align: middle;\n",
       "    }\n",
       "\n",
       "    .dataframe tbody tr th {\n",
       "        vertical-align: top;\n",
       "    }\n",
       "\n",
       "    .dataframe thead th {\n",
       "        text-align: right;\n",
       "    }\n",
       "</style>\n",
       "<table border=\"1\" class=\"dataframe\">\n",
       "  <thead>\n",
       "    <tr style=\"text-align: right;\">\n",
       "      <th></th>\n",
       "      <th>High</th>\n",
       "      <th>Low</th>\n",
       "      <th>Open</th>\n",
       "      <th>Close</th>\n",
       "      <th>Volume</th>\n",
       "      <th>Adj Close</th>\n",
       "    </tr>\n",
       "    <tr>\n",
       "      <th>Date</th>\n",
       "      <th></th>\n",
       "      <th></th>\n",
       "      <th></th>\n",
       "      <th></th>\n",
       "      <th></th>\n",
       "      <th></th>\n",
       "    </tr>\n",
       "  </thead>\n",
       "  <tbody>\n",
       "    <tr>\n",
       "      <th>2021-07-06</th>\n",
       "      <td>143.149994</td>\n",
       "      <td>140.070007</td>\n",
       "      <td>140.070007</td>\n",
       "      <td>142.020004</td>\n",
       "      <td>108181800.0</td>\n",
       "      <td>141.807541</td>\n",
       "    </tr>\n",
       "    <tr>\n",
       "      <th>2021-07-07</th>\n",
       "      <td>144.889999</td>\n",
       "      <td>142.660004</td>\n",
       "      <td>143.539993</td>\n",
       "      <td>144.570007</td>\n",
       "      <td>104911600.0</td>\n",
       "      <td>144.353729</td>\n",
       "    </tr>\n",
       "    <tr>\n",
       "      <th>2021-07-08</th>\n",
       "      <td>144.059998</td>\n",
       "      <td>140.669998</td>\n",
       "      <td>141.580002</td>\n",
       "      <td>143.240005</td>\n",
       "      <td>105575500.0</td>\n",
       "      <td>143.025711</td>\n",
       "    </tr>\n",
       "    <tr>\n",
       "      <th>2021-07-09</th>\n",
       "      <td>145.649994</td>\n",
       "      <td>142.649994</td>\n",
       "      <td>142.750000</td>\n",
       "      <td>145.110001</td>\n",
       "      <td>99788400.0</td>\n",
       "      <td>144.892914</td>\n",
       "    </tr>\n",
       "    <tr>\n",
       "      <th>2021-07-12</th>\n",
       "      <td>146.320007</td>\n",
       "      <td>144.000000</td>\n",
       "      <td>146.210007</td>\n",
       "      <td>144.500000</td>\n",
       "      <td>76299700.0</td>\n",
       "      <td>144.283829</td>\n",
       "    </tr>\n",
       "    <tr>\n",
       "      <th>2021-07-13</th>\n",
       "      <td>147.460007</td>\n",
       "      <td>143.630005</td>\n",
       "      <td>144.029999</td>\n",
       "      <td>145.639999</td>\n",
       "      <td>100827100.0</td>\n",
       "      <td>145.422119</td>\n",
       "    </tr>\n",
       "    <tr>\n",
       "      <th>2021-07-14</th>\n",
       "      <td>149.570007</td>\n",
       "      <td>147.679993</td>\n",
       "      <td>148.100006</td>\n",
       "      <td>149.149994</td>\n",
       "      <td>127050800.0</td>\n",
       "      <td>148.926865</td>\n",
       "    </tr>\n",
       "    <tr>\n",
       "      <th>2021-07-15</th>\n",
       "      <td>150.000000</td>\n",
       "      <td>147.089996</td>\n",
       "      <td>149.240005</td>\n",
       "      <td>148.479996</td>\n",
       "      <td>106820300.0</td>\n",
       "      <td>148.257874</td>\n",
       "    </tr>\n",
       "    <tr>\n",
       "      <th>2021-07-16</th>\n",
       "      <td>149.759995</td>\n",
       "      <td>145.880005</td>\n",
       "      <td>148.460007</td>\n",
       "      <td>146.389999</td>\n",
       "      <td>93100300.0</td>\n",
       "      <td>146.170990</td>\n",
       "    </tr>\n",
       "    <tr>\n",
       "      <th>2021-07-19</th>\n",
       "      <td>144.070007</td>\n",
       "      <td>141.669998</td>\n",
       "      <td>143.750000</td>\n",
       "      <td>142.449997</td>\n",
       "      <td>121434600.0</td>\n",
       "      <td>142.236893</td>\n",
       "    </tr>\n",
       "    <tr>\n",
       "      <th>2021-07-20</th>\n",
       "      <td>147.100006</td>\n",
       "      <td>142.960007</td>\n",
       "      <td>143.460007</td>\n",
       "      <td>146.149994</td>\n",
       "      <td>96350000.0</td>\n",
       "      <td>145.931351</td>\n",
       "    </tr>\n",
       "    <tr>\n",
       "      <th>2021-07-21</th>\n",
       "      <td>146.130005</td>\n",
       "      <td>144.630005</td>\n",
       "      <td>145.529999</td>\n",
       "      <td>145.399994</td>\n",
       "      <td>74993500.0</td>\n",
       "      <td>145.182480</td>\n",
       "    </tr>\n",
       "    <tr>\n",
       "      <th>2021-07-22</th>\n",
       "      <td>148.199997</td>\n",
       "      <td>145.809998</td>\n",
       "      <td>145.940002</td>\n",
       "      <td>146.800003</td>\n",
       "      <td>77338200.0</td>\n",
       "      <td>146.580383</td>\n",
       "    </tr>\n",
       "    <tr>\n",
       "      <th>2021-07-23</th>\n",
       "      <td>148.720001</td>\n",
       "      <td>146.919998</td>\n",
       "      <td>147.550003</td>\n",
       "      <td>148.559998</td>\n",
       "      <td>71447400.0</td>\n",
       "      <td>148.337753</td>\n",
       "    </tr>\n",
       "    <tr>\n",
       "      <th>2021-07-26</th>\n",
       "      <td>149.830002</td>\n",
       "      <td>147.699997</td>\n",
       "      <td>148.270004</td>\n",
       "      <td>148.990005</td>\n",
       "      <td>72434100.0</td>\n",
       "      <td>148.767120</td>\n",
       "    </tr>\n",
       "    <tr>\n",
       "      <th>2021-07-27</th>\n",
       "      <td>149.210007</td>\n",
       "      <td>145.550003</td>\n",
       "      <td>149.119995</td>\n",
       "      <td>146.770004</td>\n",
       "      <td>104818600.0</td>\n",
       "      <td>146.550430</td>\n",
       "    </tr>\n",
       "    <tr>\n",
       "      <th>2021-07-28</th>\n",
       "      <td>146.970001</td>\n",
       "      <td>142.539993</td>\n",
       "      <td>144.809998</td>\n",
       "      <td>144.979996</td>\n",
       "      <td>118931200.0</td>\n",
       "      <td>144.763107</td>\n",
       "    </tr>\n",
       "    <tr>\n",
       "      <th>2021-07-29</th>\n",
       "      <td>146.550003</td>\n",
       "      <td>144.580002</td>\n",
       "      <td>144.690002</td>\n",
       "      <td>145.639999</td>\n",
       "      <td>56699500.0</td>\n",
       "      <td>145.422119</td>\n",
       "    </tr>\n",
       "    <tr>\n",
       "      <th>2021-07-30</th>\n",
       "      <td>146.330002</td>\n",
       "      <td>144.110001</td>\n",
       "      <td>144.380005</td>\n",
       "      <td>145.860001</td>\n",
       "      <td>70382000.0</td>\n",
       "      <td>145.641785</td>\n",
       "    </tr>\n",
       "    <tr>\n",
       "      <th>2021-08-02</th>\n",
       "      <td>146.949997</td>\n",
       "      <td>145.250000</td>\n",
       "      <td>146.360001</td>\n",
       "      <td>145.520004</td>\n",
       "      <td>62880000.0</td>\n",
       "      <td>145.302307</td>\n",
       "    </tr>\n",
       "    <tr>\n",
       "      <th>2021-08-03</th>\n",
       "      <td>148.039993</td>\n",
       "      <td>145.179993</td>\n",
       "      <td>145.809998</td>\n",
       "      <td>147.360001</td>\n",
       "      <td>64660800.0</td>\n",
       "      <td>147.139542</td>\n",
       "    </tr>\n",
       "    <tr>\n",
       "      <th>2021-08-04</th>\n",
       "      <td>147.789993</td>\n",
       "      <td>146.279999</td>\n",
       "      <td>147.270004</td>\n",
       "      <td>146.949997</td>\n",
       "      <td>56368300.0</td>\n",
       "      <td>146.730164</td>\n",
       "    </tr>\n",
       "    <tr>\n",
       "      <th>2021-08-05</th>\n",
       "      <td>147.839996</td>\n",
       "      <td>146.169998</td>\n",
       "      <td>146.979996</td>\n",
       "      <td>147.059998</td>\n",
       "      <td>46397700.0</td>\n",
       "      <td>146.839996</td>\n",
       "    </tr>\n",
       "    <tr>\n",
       "      <th>2021-08-06</th>\n",
       "      <td>147.110001</td>\n",
       "      <td>145.630005</td>\n",
       "      <td>146.350006</td>\n",
       "      <td>146.139999</td>\n",
       "      <td>54067400.0</td>\n",
       "      <td>146.139999</td>\n",
       "    </tr>\n",
       "  </tbody>\n",
       "</table>\n",
       "</div>"
      ],
      "text/plain": [
       "                  High         Low        Open       Close       Volume  \\\n",
       "Date                                                                      \n",
       "2021-07-06  143.149994  140.070007  140.070007  142.020004  108181800.0   \n",
       "2021-07-07  144.889999  142.660004  143.539993  144.570007  104911600.0   \n",
       "2021-07-08  144.059998  140.669998  141.580002  143.240005  105575500.0   \n",
       "2021-07-09  145.649994  142.649994  142.750000  145.110001   99788400.0   \n",
       "2021-07-12  146.320007  144.000000  146.210007  144.500000   76299700.0   \n",
       "2021-07-13  147.460007  143.630005  144.029999  145.639999  100827100.0   \n",
       "2021-07-14  149.570007  147.679993  148.100006  149.149994  127050800.0   \n",
       "2021-07-15  150.000000  147.089996  149.240005  148.479996  106820300.0   \n",
       "2021-07-16  149.759995  145.880005  148.460007  146.389999   93100300.0   \n",
       "2021-07-19  144.070007  141.669998  143.750000  142.449997  121434600.0   \n",
       "2021-07-20  147.100006  142.960007  143.460007  146.149994   96350000.0   \n",
       "2021-07-21  146.130005  144.630005  145.529999  145.399994   74993500.0   \n",
       "2021-07-22  148.199997  145.809998  145.940002  146.800003   77338200.0   \n",
       "2021-07-23  148.720001  146.919998  147.550003  148.559998   71447400.0   \n",
       "2021-07-26  149.830002  147.699997  148.270004  148.990005   72434100.0   \n",
       "2021-07-27  149.210007  145.550003  149.119995  146.770004  104818600.0   \n",
       "2021-07-28  146.970001  142.539993  144.809998  144.979996  118931200.0   \n",
       "2021-07-29  146.550003  144.580002  144.690002  145.639999   56699500.0   \n",
       "2021-07-30  146.330002  144.110001  144.380005  145.860001   70382000.0   \n",
       "2021-08-02  146.949997  145.250000  146.360001  145.520004   62880000.0   \n",
       "2021-08-03  148.039993  145.179993  145.809998  147.360001   64660800.0   \n",
       "2021-08-04  147.789993  146.279999  147.270004  146.949997   56368300.0   \n",
       "2021-08-05  147.839996  146.169998  146.979996  147.059998   46397700.0   \n",
       "2021-08-06  147.110001  145.630005  146.350006  146.139999   54067400.0   \n",
       "\n",
       "             Adj Close  \n",
       "Date                    \n",
       "2021-07-06  141.807541  \n",
       "2021-07-07  144.353729  \n",
       "2021-07-08  143.025711  \n",
       "2021-07-09  144.892914  \n",
       "2021-07-12  144.283829  \n",
       "2021-07-13  145.422119  \n",
       "2021-07-14  148.926865  \n",
       "2021-07-15  148.257874  \n",
       "2021-07-16  146.170990  \n",
       "2021-07-19  142.236893  \n",
       "2021-07-20  145.931351  \n",
       "2021-07-21  145.182480  \n",
       "2021-07-22  146.580383  \n",
       "2021-07-23  148.337753  \n",
       "2021-07-26  148.767120  \n",
       "2021-07-27  146.550430  \n",
       "2021-07-28  144.763107  \n",
       "2021-07-29  145.422119  \n",
       "2021-07-30  145.641785  \n",
       "2021-08-02  145.302307  \n",
       "2021-08-03  147.139542  \n",
       "2021-08-04  146.730164  \n",
       "2021-08-05  146.839996  \n",
       "2021-08-06  146.139999  "
      ]
     },
     "execution_count": 52,
     "metadata": {},
     "output_type": "execute_result"
    }
   ],
   "source": [
    "apple"
   ]
  },
  {
   "cell_type": "code",
   "execution_count": null,
   "id": "c0e3ede4",
   "metadata": {},
   "outputs": [],
   "source": [
    "GOOD"
   ]
  },
  {
   "cell_type": "code",
   "execution_count": null,
   "id": "80c78657",
   "metadata": {},
   "outputs": [],
   "source": [
    "# this is days\n",
    "NUM_PERIODS=30"
   ]
  },
  {
   "cell_type": "code",
   "execution_count": 50,
   "id": "bfdf50d0",
   "metadata": {},
   "outputs": [
    {
     "name": "stdout",
     "output_type": "stream",
     "text": [
      "today = 07/06/2021\n"
     ]
    }
   ],
   "source": [
    "start_date = datetime.datetime.now() - datetime.timedelta(32)\n",
    "start = start_date.strftime(\"%m/%d/%Y\")\n",
    "print(\"today =\", start)"
   ]
  },
  {
   "cell_type": "code",
   "execution_count": 49,
   "id": "35eba235",
   "metadata": {},
   "outputs": [
    {
     "name": "stdout",
     "output_type": "stream",
     "text": [
      "today = 08/07/2021\n"
     ]
    }
   ],
   "source": [
    "today = datetime.datetime.today()\n",
    "\n",
    "# dd/mm/YY\n",
    "end = today.strftime(\"%m/%d/%Y\")\n",
    "print(\"today =\", end)"
   ]
  },
  {
   "cell_type": "code",
   "execution_count": 83,
   "id": "995ff86d",
   "metadata": {},
   "outputs": [
    {
     "name": "stdout",
     "output_type": "stream",
     "text": [
      "start: 142.02 and close: 146.14\n",
      "Percent change: 2.82%\n"
     ]
    }
   ],
   "source": [
    "#res = [ apple[0], apple[-1] ] \n",
    "#type(apple)\n",
    "#apple['Close'].iloc[0]\n",
    "#apple[-1:]['Close']\n",
    "#len(apple)  24\n",
    "\n",
    "# get the first value\n",
    "start_close = apple['Close'].iloc[0]\n",
    "# get the last value\n",
    "end_close = apple['Close'].iloc[len(apple)-1]\n",
    "print(\"start: %0.2f and close: %0.2f\" %  (start_close, end_close) )\n",
    "\n",
    "change = 100 -(  (start_close / end_close ) * 100 )\n",
    "print(\"Percent change: %0.2f%%\" % change)"
   ]
  },
  {
   "cell_type": "code",
   "execution_count": 86,
   "id": "36bec033",
   "metadata": {},
   "outputs": [],
   "source": [
    "npapple = apple[\"Close\"].to_numpy()"
   ]
  },
  {
   "cell_type": "code",
   "execution_count": 87,
   "id": "035f8f2c",
   "metadata": {},
   "outputs": [
    {
     "data": {
      "text/plain": [
       "array([142.02000427, 144.57000732, 143.24000549, 145.11000061,\n",
       "       144.5       , 145.63999939, 149.1499939 , 148.47999573,\n",
       "       146.38999939, 142.44999695, 146.1499939 , 145.3999939 ,\n",
       "       146.80000305, 148.55999756, 148.99000549, 146.77000427,\n",
       "       144.97999573, 145.63999939, 145.86000061, 145.52000427,\n",
       "       147.36000061, 146.94999695, 147.05999756, 146.13999939])"
      ]
     },
     "execution_count": 87,
     "metadata": {},
     "output_type": "execute_result"
    }
   ],
   "source": [
    "npapple"
   ]
  },
  {
   "cell_type": "code",
   "execution_count": 92,
   "id": "4d99d130",
   "metadata": {},
   "outputs": [
    {
     "name": "stdout",
     "output_type": "stream",
     "text": [
      "149.15\n"
     ]
    }
   ],
   "source": [
    "#column = apple[\"Close\"]\n",
    "#max_value = column.max()\n",
    "#get max value from \"col2\"\n",
    "#print(max_value)\n",
    "\n",
    "max_value = apple[\"Close\"].max()\n",
    "max_value =  \"{:.2f}\".format(max_value)\n",
    "print(max_value)"
   ]
  },
  {
   "cell_type": "code",
   "execution_count": 91,
   "id": "f60886d3",
   "metadata": {},
   "outputs": [
    {
     "name": "stdout",
     "output_type": "stream",
     "text": [
      "142.02\n"
     ]
    }
   ],
   "source": [
    "min_value = apple[\"Close\"].min()\n",
    "min_value =  \"{:.2f}\".format(min_value)\n",
    "print(min_value)"
   ]
  },
  {
   "cell_type": "code",
   "execution_count": 90,
   "id": "2c3ece5b",
   "metadata": {},
   "outputs": [
    {
     "data": {
      "text/plain": [
       "float"
      ]
     },
     "execution_count": 90,
     "metadata": {},
     "output_type": "execute_result"
    }
   ],
   "source": [
    "type(max_value)"
   ]
  },
  {
   "cell_type": "code",
   "execution_count": null,
   "id": "c8e9a39d",
   "metadata": {},
   "outputs": [],
   "source": [
    "GOOD"
   ]
  },
  {
   "cell_type": "code",
   "execution_count": null,
   "id": "a5a89d17",
   "metadata": {},
   "outputs": [],
   "source": []
  },
  {
   "cell_type": "code",
   "execution_count": 5,
   "id": "6f134a75",
   "metadata": {},
   "outputs": [],
   "source": [
    "#Next, we calculate the number of days that have elapsed in our chosen time window\n",
    "time_elapsed = (apple.index[-1] - apple.index[0]).days"
   ]
  },
  {
   "cell_type": "code",
   "execution_count": 6,
   "id": "5772138d",
   "metadata": {},
   "outputs": [
    {
     "data": {
      "text/plain": [
       "4"
      ]
     },
     "execution_count": 6,
     "metadata": {},
     "output_type": "execute_result"
    }
   ],
   "source": [
    "time_elapsed"
   ]
  },
  {
   "cell_type": "code",
   "execution_count": 7,
   "id": "8b5d764c",
   "metadata": {},
   "outputs": [
    {
     "data": {
      "text/plain": [
       "Date\n",
       "2021-08-02    145.520004\n",
       "2021-08-03    147.360001\n",
       "2021-08-04    146.949997\n",
       "2021-08-05    147.059998\n",
       "2021-08-06    146.139999\n",
       "Name: Adj Close, dtype: float64"
      ]
     },
     "execution_count": 7,
     "metadata": {},
     "output_type": "execute_result"
    }
   ],
   "source": [
    "apple['Adj Close']"
   ]
  },
  {
   "cell_type": "code",
   "execution_count": 9,
   "id": "c32e591a",
   "metadata": {},
   "outputs": [],
   "source": [
    "day = data.DataReader('AAPL', 'yahoo',start='8/1/2021', end='8/2/2021')"
   ]
  },
  {
   "cell_type": "code",
   "execution_count": 10,
   "id": "8f26fd2e",
   "metadata": {},
   "outputs": [
    {
     "data": {
      "text/html": [
       "<div>\n",
       "<style scoped>\n",
       "    .dataframe tbody tr th:only-of-type {\n",
       "        vertical-align: middle;\n",
       "    }\n",
       "\n",
       "    .dataframe tbody tr th {\n",
       "        vertical-align: top;\n",
       "    }\n",
       "\n",
       "    .dataframe thead th {\n",
       "        text-align: right;\n",
       "    }\n",
       "</style>\n",
       "<table border=\"1\" class=\"dataframe\">\n",
       "  <thead>\n",
       "    <tr style=\"text-align: right;\">\n",
       "      <th></th>\n",
       "      <th>High</th>\n",
       "      <th>Low</th>\n",
       "      <th>Open</th>\n",
       "      <th>Close</th>\n",
       "      <th>Volume</th>\n",
       "      <th>Adj Close</th>\n",
       "    </tr>\n",
       "    <tr>\n",
       "      <th>Date</th>\n",
       "      <th></th>\n",
       "      <th></th>\n",
       "      <th></th>\n",
       "      <th></th>\n",
       "      <th></th>\n",
       "      <th></th>\n",
       "    </tr>\n",
       "  </thead>\n",
       "  <tbody>\n",
       "    <tr>\n",
       "      <th>2021-08-02</th>\n",
       "      <td>146.949997</td>\n",
       "      <td>145.25</td>\n",
       "      <td>146.360001</td>\n",
       "      <td>145.520004</td>\n",
       "      <td>62880000</td>\n",
       "      <td>145.520004</td>\n",
       "    </tr>\n",
       "  </tbody>\n",
       "</table>\n",
       "</div>"
      ],
      "text/plain": [
       "                  High     Low        Open       Close    Volume   Adj Close\n",
       "Date                                                                        \n",
       "2021-08-02  146.949997  145.25  146.360001  145.520004  62880000  145.520004"
      ]
     },
     "execution_count": 10,
     "metadata": {},
     "output_type": "execute_result"
    }
   ],
   "source": [
    "day"
   ]
  },
  {
   "cell_type": "raw",
   "id": "06e48920",
   "metadata": {},
   "source": [
    "#AAPL,MSFT,AMZN,FB,GOOG,TSLA,NVDA,GOOGL,PYPL,ADBE\n",
    "\n",
    "tickers='qqq','aaa','ab','rt','uia',\n",
    "'oas','djf'"
   ]
  },
  {
   "cell_type": "code",
   "execution_count": 13,
   "id": "07010513",
   "metadata": {},
   "outputs": [
    {
     "data": {
      "text/plain": [
       "('qqq', 'aaa', 'ab', 'rt', 'uia', 'oas', 'djf')"
      ]
     },
     "execution_count": 13,
     "metadata": {},
     "output_type": "execute_result"
    }
   ],
   "source": [
    "tickers"
   ]
  },
  {
   "cell_type": "code",
   "execution_count": 15,
   "id": "8978ca73",
   "metadata": {},
   "outputs": [
    {
     "name": "stdout",
     "output_type": "stream",
     "text": [
      "qqq\n",
      "aaa\n",
      "ab\n",
      "rt\n",
      "uia\n",
      "oas\n",
      "djf\n"
     ]
    }
   ],
   "source": [
    "for ticker in tickers:\n",
    "  print(ticker)\n"
   ]
  },
  {
   "cell_type": "code",
   "execution_count": 97,
   "id": "66fbd0b4",
   "metadata": {},
   "outputs": [
    {
     "data": {
      "image/png": "[encoded data removed]",
      "text/plain": [
       "<Figure size 1080x720 with 1 Axes>"
      ]
     },
     "metadata": {
      "needs_background": "light"
     },
     "output_type": "display_data"
    }
   ],
   "source": [
    "plt.figure(figsize=(15,10))\n",
    "plt.plot(apple.index, npapple, label=\"APPL\")\n",
    "plt.plot(apple.index, apple['Low'], label=\"Low\")\n",
    "#plt.xlabel(\"date\")\n",
    "plt.ylabel(\"$ price\")\n",
    "plt.title(\"Stock Prices\")\n",
    "plt.legend()\n",
    "plt.show()"
   ]
  }
 ],
 "metadata": {
  "kernelspec": {
   "display_name": "Python 3",
   "language": "python",
   "name": "python3"
  },
  "language_info": {
   "codemirror_mode": {
    "name": "ipython",
    "version": 3
   },
   "file_extension": ".py",
   "mimetype": "text/x-python",
   "name": "python",
   "nbconvert_exporter": "python",
   "pygments_lexer": "ipython3",
   "version": "3.8.8"
  }
 },
 "nbformat": 4,
 "nbformat_minor": 5
}
